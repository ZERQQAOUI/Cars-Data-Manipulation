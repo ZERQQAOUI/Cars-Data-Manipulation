{
 "cells": [
  {
   "cell_type": "markdown",
   "metadata": {},
   "source": [
    "Data Wrangling"
   ]
  },
  {
   "cell_type": "code",
   "execution_count": 178,
   "metadata": {},
   "outputs": [
    {
     "data": {
      "text/html": [
       "<div>\n",
       "<style scoped>\n",
       "    .dataframe tbody tr th:only-of-type {\n",
       "        vertical-align: middle;\n",
       "    }\n",
       "\n",
       "    .dataframe tbody tr th {\n",
       "        vertical-align: top;\n",
       "    }\n",
       "\n",
       "    .dataframe thead th {\n",
       "        text-align: right;\n",
       "    }\n",
       "</style>\n",
       "<table border=\"1\" class=\"dataframe\">\n",
       "  <thead>\n",
       "    <tr style=\"text-align: right;\">\n",
       "      <th></th>\n",
       "      <th>Brand</th>\n",
       "      <th>Model</th>\n",
       "      <th>Version</th>\n",
       "      <th>Price</th>\n",
       "      <th>Modèle</th>\n",
       "      <th>Main</th>\n",
       "      <th>Kilométrage</th>\n",
       "      <th>Carburant</th>\n",
       "      <th>Transmision</th>\n",
       "      <th>Puissance fiscale</th>\n",
       "      <th>...</th>\n",
       "      <th>Airbags</th>\n",
       "      <th>ABS</th>\n",
       "      <th>ESP</th>\n",
       "      <th>Antipatinage</th>\n",
       "      <th>Architecture</th>\n",
       "      <th>Cylindrée</th>\n",
       "      <th>Conso. ville</th>\n",
       "      <th>Conso. route</th>\n",
       "      <th>Vitesse maxi.</th>\n",
       "      <th>Volume du réservoir</th>\n",
       "    </tr>\n",
       "  </thead>\n",
       "  <tbody>\n",
       "    <tr>\n",
       "      <th>0</th>\n",
       "      <td>MERCEDES</td>\n",
       "      <td>Classe C 2014</td>\n",
       "      <td>220 d</td>\n",
       "      <td>228.000 DH</td>\n",
       "      <td>2014.0</td>\n",
       "      <td>Seconde</td>\n",
       "      <td>144.500 km</td>\n",
       "      <td>Diesel</td>\n",
       "      <td>Automatique</td>\n",
       "      <td>8 cv</td>\n",
       "      <td>...</td>\n",
       "      <td>oui</td>\n",
       "      <td>oui</td>\n",
       "      <td>oui</td>\n",
       "      <td>oui</td>\n",
       "      <td>NaN</td>\n",
       "      <td>NaN</td>\n",
       "      <td>NaN</td>\n",
       "      <td>NaN</td>\n",
       "      <td>NaN</td>\n",
       "      <td>NaN</td>\n",
       "    </tr>\n",
       "    <tr>\n",
       "      <th>1</th>\n",
       "      <td>MERCEDES</td>\n",
       "      <td>Classe C 2003</td>\n",
       "      <td>220 CDI</td>\n",
       "      <td>79.000 DH</td>\n",
       "      <td>2003.0</td>\n",
       "      <td>Seconde</td>\n",
       "      <td>350.000 km</td>\n",
       "      <td>Diesel</td>\n",
       "      <td>Manuelle</td>\n",
       "      <td>8 cv</td>\n",
       "      <td>...</td>\n",
       "      <td>oui</td>\n",
       "      <td>oui</td>\n",
       "      <td>oui</td>\n",
       "      <td>oui</td>\n",
       "      <td>NaN</td>\n",
       "      <td>NaN</td>\n",
       "      <td>NaN</td>\n",
       "      <td>NaN</td>\n",
       "      <td>NaN</td>\n",
       "      <td>NaN</td>\n",
       "    </tr>\n",
       "    <tr>\n",
       "      <th>2</th>\n",
       "      <td>MERCEDES</td>\n",
       "      <td>Classe B 2013</td>\n",
       "      <td>180 d Urban</td>\n",
       "      <td>150.000 DH</td>\n",
       "      <td>2013.0</td>\n",
       "      <td>Seconde</td>\n",
       "      <td>144.000 km</td>\n",
       "      <td>Diesel</td>\n",
       "      <td>Manuelle</td>\n",
       "      <td>8 cv</td>\n",
       "      <td>...</td>\n",
       "      <td>oui</td>\n",
       "      <td>oui</td>\n",
       "      <td>oui</td>\n",
       "      <td>oui</td>\n",
       "      <td>NaN</td>\n",
       "      <td>NaN</td>\n",
       "      <td>NaN</td>\n",
       "      <td>NaN</td>\n",
       "      <td>NaN</td>\n",
       "      <td>NaN</td>\n",
       "    </tr>\n",
       "    <tr>\n",
       "      <th>3</th>\n",
       "      <td>MERCEDES</td>\n",
       "      <td>Classe E 2006</td>\n",
       "      <td>Autre version</td>\n",
       "      <td>135.000 DH</td>\n",
       "      <td>2006.0</td>\n",
       "      <td>Seconde</td>\n",
       "      <td>248.000 km</td>\n",
       "      <td>Diesel</td>\n",
       "      <td>Automatique</td>\n",
       "      <td>9 cv</td>\n",
       "      <td>...</td>\n",
       "      <td>oui</td>\n",
       "      <td>oui</td>\n",
       "      <td>oui</td>\n",
       "      <td>oui</td>\n",
       "      <td>NaN</td>\n",
       "      <td>NaN</td>\n",
       "      <td>NaN</td>\n",
       "      <td>NaN</td>\n",
       "      <td>NaN</td>\n",
       "      <td>NaN</td>\n",
       "    </tr>\n",
       "    <tr>\n",
       "      <th>4</th>\n",
       "      <td>MERCEDES</td>\n",
       "      <td>CLA Coupé 2014</td>\n",
       "      <td>220 CDI</td>\n",
       "      <td>240.000 DH</td>\n",
       "      <td>2014.0</td>\n",
       "      <td>Seconde</td>\n",
       "      <td>103.000 km</td>\n",
       "      <td>Diesel</td>\n",
       "      <td>Automatique</td>\n",
       "      <td>9 cv</td>\n",
       "      <td>...</td>\n",
       "      <td>oui</td>\n",
       "      <td>oui</td>\n",
       "      <td>oui</td>\n",
       "      <td>oui</td>\n",
       "      <td>NaN</td>\n",
       "      <td>NaN</td>\n",
       "      <td>NaN</td>\n",
       "      <td>NaN</td>\n",
       "      <td>NaN</td>\n",
       "      <td>NaN</td>\n",
       "    </tr>\n",
       "  </tbody>\n",
       "</table>\n",
       "<p>5 rows × 43 columns</p>\n",
       "</div>"
      ],
      "text/plain": [
       "      Brand           Model        Version       Price  Modèle     Main  \\\n",
       "0  MERCEDES   Classe C 2014          220 d  228.000 DH  2014.0  Seconde   \n",
       "1  MERCEDES   Classe C 2003        220 CDI   79.000 DH  2003.0  Seconde   \n",
       "2  MERCEDES   Classe B 2013    180 d Urban  150.000 DH  2013.0  Seconde   \n",
       "3  MERCEDES   Classe E 2006  Autre version  135.000 DH  2006.0  Seconde   \n",
       "4  MERCEDES  CLA Coupé 2014        220 CDI  240.000 DH  2014.0  Seconde   \n",
       "\n",
       "  Kilométrage Carburant  Transmision Puissance fiscale  ... Airbags  ABS  ESP  \\\n",
       "0  144.500 km    Diesel  Automatique              8 cv  ...     oui  oui  oui   \n",
       "1  350.000 km    Diesel     Manuelle              8 cv  ...     oui  oui  oui   \n",
       "2  144.000 km    Diesel     Manuelle              8 cv  ...     oui  oui  oui   \n",
       "3  248.000 km    Diesel  Automatique              9 cv  ...     oui  oui  oui   \n",
       "4  103.000 km    Diesel  Automatique              9 cv  ...     oui  oui  oui   \n",
       "\n",
       "  Antipatinage Architecture Cylindrée Conso. ville Conso. route Vitesse maxi.  \\\n",
       "0          oui          NaN       NaN          NaN          NaN           NaN   \n",
       "1          oui          NaN       NaN          NaN          NaN           NaN   \n",
       "2          oui          NaN       NaN          NaN          NaN           NaN   \n",
       "3          oui          NaN       NaN          NaN          NaN           NaN   \n",
       "4          oui          NaN       NaN          NaN          NaN           NaN   \n",
       "\n",
       "  Volume du réservoir  \n",
       "0                 NaN  \n",
       "1                 NaN  \n",
       "2                 NaN  \n",
       "3                 NaN  \n",
       "4                 NaN  \n",
       "\n",
       "[5 rows x 43 columns]"
      ]
     },
     "execution_count": 178,
     "metadata": {},
     "output_type": "execute_result"
    }
   ],
   "source": [
    "import pandas as pd\n",
    "import matplotlib.pylab as plt\n",
    "\n",
    "df = pd.read_csv('wandaloo_cars.csv', delimiter=',')\n",
    "df.head()"
   ]
  },
  {
   "cell_type": "markdown",
   "metadata": {},
   "source": [
    "Steps for working with missing data:\n",
    "\n",
    "Identify missing data\n",
    "\n",
    "1.Deal with missing data\n",
    "2.Correct data format\n",
    "3.Identify missing values\n",
    "\n",
    "In the car dataset, missing data comes with NaN (Not a Number), which is Python's default missing value marker for reasons of computational speed and convenience."
   ]
  },
  {
   "cell_type": "markdown",
   "metadata": {},
   "source": [
    "Evaluating for Missing Data\n",
    "The missing values are converted to Python's default. We use Python's built-in functions to identify these missing values. There are two methods to detect missing data:\n",
    "\n",
    "1/ .isnull()\n",
    "2/ .notnull()\n",
    "The output is a boolean value indicating whether the value that is passed into the argument is in fact missing data"
   ]
  },
  {
   "cell_type": "code",
   "execution_count": 47,
   "metadata": {},
   "outputs": [
    {
     "data": {
      "text/html": [
       "<div>\n",
       "<style scoped>\n",
       "    .dataframe tbody tr th:only-of-type {\n",
       "        vertical-align: middle;\n",
       "    }\n",
       "\n",
       "    .dataframe tbody tr th {\n",
       "        vertical-align: top;\n",
       "    }\n",
       "\n",
       "    .dataframe thead th {\n",
       "        text-align: right;\n",
       "    }\n",
       "</style>\n",
       "<table border=\"1\" class=\"dataframe\">\n",
       "  <thead>\n",
       "    <tr style=\"text-align: right;\">\n",
       "      <th></th>\n",
       "      <th>Brand</th>\n",
       "      <th>Model</th>\n",
       "      <th>Version</th>\n",
       "      <th>Price</th>\n",
       "      <th>Modèle</th>\n",
       "      <th>Main</th>\n",
       "      <th>Kilométrage</th>\n",
       "      <th>Carburant</th>\n",
       "      <th>Transmision</th>\n",
       "      <th>Puissance fiscale</th>\n",
       "      <th>...</th>\n",
       "      <th>Airbags</th>\n",
       "      <th>ABS</th>\n",
       "      <th>ESP</th>\n",
       "      <th>Antipatinage</th>\n",
       "      <th>Architecture</th>\n",
       "      <th>Cylindrée</th>\n",
       "      <th>Conso. ville</th>\n",
       "      <th>Conso. route</th>\n",
       "      <th>Vitesse maxi.</th>\n",
       "      <th>Volume du réservoir</th>\n",
       "    </tr>\n",
       "  </thead>\n",
       "  <tbody>\n",
       "    <tr>\n",
       "      <th>0</th>\n",
       "      <td>False</td>\n",
       "      <td>False</td>\n",
       "      <td>False</td>\n",
       "      <td>False</td>\n",
       "      <td>False</td>\n",
       "      <td>False</td>\n",
       "      <td>False</td>\n",
       "      <td>False</td>\n",
       "      <td>False</td>\n",
       "      <td>False</td>\n",
       "      <td>...</td>\n",
       "      <td>False</td>\n",
       "      <td>False</td>\n",
       "      <td>False</td>\n",
       "      <td>False</td>\n",
       "      <td>True</td>\n",
       "      <td>True</td>\n",
       "      <td>True</td>\n",
       "      <td>True</td>\n",
       "      <td>True</td>\n",
       "      <td>True</td>\n",
       "    </tr>\n",
       "    <tr>\n",
       "      <th>1</th>\n",
       "      <td>False</td>\n",
       "      <td>False</td>\n",
       "      <td>False</td>\n",
       "      <td>False</td>\n",
       "      <td>False</td>\n",
       "      <td>False</td>\n",
       "      <td>False</td>\n",
       "      <td>False</td>\n",
       "      <td>False</td>\n",
       "      <td>False</td>\n",
       "      <td>...</td>\n",
       "      <td>False</td>\n",
       "      <td>False</td>\n",
       "      <td>False</td>\n",
       "      <td>False</td>\n",
       "      <td>True</td>\n",
       "      <td>True</td>\n",
       "      <td>True</td>\n",
       "      <td>True</td>\n",
       "      <td>True</td>\n",
       "      <td>True</td>\n",
       "    </tr>\n",
       "    <tr>\n",
       "      <th>2</th>\n",
       "      <td>False</td>\n",
       "      <td>False</td>\n",
       "      <td>False</td>\n",
       "      <td>False</td>\n",
       "      <td>False</td>\n",
       "      <td>False</td>\n",
       "      <td>False</td>\n",
       "      <td>False</td>\n",
       "      <td>False</td>\n",
       "      <td>False</td>\n",
       "      <td>...</td>\n",
       "      <td>False</td>\n",
       "      <td>False</td>\n",
       "      <td>False</td>\n",
       "      <td>False</td>\n",
       "      <td>True</td>\n",
       "      <td>True</td>\n",
       "      <td>True</td>\n",
       "      <td>True</td>\n",
       "      <td>True</td>\n",
       "      <td>True</td>\n",
       "    </tr>\n",
       "    <tr>\n",
       "      <th>3</th>\n",
       "      <td>False</td>\n",
       "      <td>False</td>\n",
       "      <td>False</td>\n",
       "      <td>False</td>\n",
       "      <td>False</td>\n",
       "      <td>False</td>\n",
       "      <td>False</td>\n",
       "      <td>False</td>\n",
       "      <td>False</td>\n",
       "      <td>False</td>\n",
       "      <td>...</td>\n",
       "      <td>False</td>\n",
       "      <td>False</td>\n",
       "      <td>False</td>\n",
       "      <td>False</td>\n",
       "      <td>True</td>\n",
       "      <td>True</td>\n",
       "      <td>True</td>\n",
       "      <td>True</td>\n",
       "      <td>True</td>\n",
       "      <td>True</td>\n",
       "    </tr>\n",
       "    <tr>\n",
       "      <th>4</th>\n",
       "      <td>False</td>\n",
       "      <td>False</td>\n",
       "      <td>False</td>\n",
       "      <td>False</td>\n",
       "      <td>False</td>\n",
       "      <td>False</td>\n",
       "      <td>False</td>\n",
       "      <td>False</td>\n",
       "      <td>False</td>\n",
       "      <td>False</td>\n",
       "      <td>...</td>\n",
       "      <td>False</td>\n",
       "      <td>False</td>\n",
       "      <td>False</td>\n",
       "      <td>False</td>\n",
       "      <td>True</td>\n",
       "      <td>True</td>\n",
       "      <td>True</td>\n",
       "      <td>True</td>\n",
       "      <td>True</td>\n",
       "      <td>True</td>\n",
       "    </tr>\n",
       "  </tbody>\n",
       "</table>\n",
       "<p>5 rows × 43 columns</p>\n",
       "</div>"
      ],
      "text/plain": [
       "   Brand  Model  Version  Price  Modèle   Main  Kilométrage  Carburant  \\\n",
       "0  False  False    False  False   False  False        False      False   \n",
       "1  False  False    False  False   False  False        False      False   \n",
       "2  False  False    False  False   False  False        False      False   \n",
       "3  False  False    False  False   False  False        False      False   \n",
       "4  False  False    False  False   False  False        False      False   \n",
       "\n",
       "   Transmision  Puissance fiscale  ...  Airbags    ABS    ESP  Antipatinage  \\\n",
       "0        False              False  ...    False  False  False         False   \n",
       "1        False              False  ...    False  False  False         False   \n",
       "2        False              False  ...    False  False  False         False   \n",
       "3        False              False  ...    False  False  False         False   \n",
       "4        False              False  ...    False  False  False         False   \n",
       "\n",
       "   Architecture  Cylindrée  Conso. ville  Conso. route  Vitesse maxi.  \\\n",
       "0          True       True          True          True           True   \n",
       "1          True       True          True          True           True   \n",
       "2          True       True          True          True           True   \n",
       "3          True       True          True          True           True   \n",
       "4          True       True          True          True           True   \n",
       "\n",
       "   Volume du réservoir  \n",
       "0                 True  \n",
       "1                 True  \n",
       "2                 True  \n",
       "3                 True  \n",
       "4                 True  \n",
       "\n",
       "[5 rows x 43 columns]"
      ]
     },
     "execution_count": 47,
     "metadata": {},
     "output_type": "execute_result"
    }
   ],
   "source": [
    "missing_data = df.isnull()\n",
    "missing_data.head(5)"
   ]
  },
  {
   "cell_type": "markdown",
   "metadata": {},
   "source": [
    "\"True\" stands for missing value, while \"False\" stands for not missing value.\n",
    "\n",
    "Count missing values in each column\n",
    "Using a for loop in Python, we can quickly figure out the number of missing values in each column.\"True\" represents a missing value, \"False\" means the value is present in the dataset. In the body of the for loop the method \".value_counts()\" counts the number of \"True\" values."
   ]
  },
  {
   "cell_type": "code",
   "execution_count": 48,
   "metadata": {},
   "outputs": [
    {
     "name": "stdout",
     "output_type": "stream",
     "text": [
      "Brand\n",
      "False    3063\n",
      "True       66\n",
      "Name: Brand, dtype: int64\n",
      "\n",
      "Model\n",
      "False    3063\n",
      "True       66\n",
      "Name: Model, dtype: int64\n",
      "\n",
      "Version\n",
      "False    2180\n",
      "True      949\n",
      "Name: Version, dtype: int64\n",
      "\n",
      "Price\n",
      "False    3063\n",
      "True       66\n",
      "Name: Price, dtype: int64\n",
      "\n",
      "Modèle\n",
      "False    2180\n",
      "True      949\n",
      "Name: Modèle, dtype: int64\n",
      "\n",
      "Main\n",
      "False    2180\n",
      "True      949\n",
      "Name: Main, dtype: int64\n",
      "\n",
      "Kilométrage\n",
      "False    2180\n",
      "True      949\n",
      "Name: Kilométrage, dtype: int64\n",
      "\n",
      "Carburant\n",
      "False    2166\n",
      "True      963\n",
      "Name: Carburant, dtype: int64\n",
      "\n",
      "Transmision\n",
      "False    2180\n",
      "True      949\n",
      "Name: Transmision, dtype: int64\n",
      "\n",
      "Puissance fiscale\n",
      "False    3048\n",
      "True       81\n",
      "Name: Puissance fiscale, dtype: int64\n",
      "\n",
      "Couleur extérieure\n",
      "False    2180\n",
      "True      949\n",
      "Name: Couleur extérieure, dtype: int64\n",
      "\n",
      "Etat du véhicule\n",
      "False    2180\n",
      "True      949\n",
      "Name: Etat du véhicule, dtype: int64\n",
      "\n",
      "Climatisation\n",
      "False    3048\n",
      "True       81\n",
      "Name: Climatisation, dtype: int64\n",
      "\n",
      "Vitres électriques\n",
      "False    3048\n",
      "True       81\n",
      "Name: Vitres électriques, dtype: int64\n",
      "\n",
      "Sièges électriques\n",
      "False    3028\n",
      "True      101\n",
      "Name: Sièges électriques, dtype: int64\n",
      "\n",
      "Ordinateur de bord\n",
      "False    3048\n",
      "True       81\n",
      "Name: Ordinateur de bord, dtype: int64\n",
      "\n",
      "Start & Stop\n",
      "False    3048\n",
      "True       81\n",
      "Name: Start & Stop, dtype: int64\n",
      "\n",
      "Régulateur de vitesse\n",
      "False    3048\n",
      "True       81\n",
      "Name: Régulateur de vitesse, dtype: int64\n",
      "\n",
      "Allumage auto. des feux\n",
      "False    3048\n",
      "True       81\n",
      "Name: Allumage auto. des feux, dtype: int64\n",
      "\n",
      "Détecteur de pluie\n",
      "False    3048\n",
      "True       81\n",
      "Name: Détecteur de pluie, dtype: int64\n",
      "\n",
      "Commandes au volant\n",
      "False    3048\n",
      "True       81\n",
      "Name: Commandes au volant, dtype: int64\n",
      "\n",
      "Ecran tactile\n",
      "False    3048\n",
      "True       81\n",
      "Name: Ecran tactile, dtype: int64\n",
      "\n",
      "Rétroviseurs électriques\n",
      "False    3048\n",
      "True       81\n",
      "Name: Rétroviseurs électriques, dtype: int64\n",
      "\n",
      "Ouverture auto. du coffre\n",
      "False    2180\n",
      "True      949\n",
      "Name: Ouverture auto. du coffre, dtype: int64\n",
      "\n",
      "Démarrage mains libres\n",
      "False    3048\n",
      "True       81\n",
      "Name: Démarrage mains libres, dtype: int64\n",
      "\n",
      "Banquette arrière rabattable 1/3-2/3\n",
      "False    3048\n",
      "True       81\n",
      "Name: Banquette arrière rabattable 1/3-2/3, dtype: int64\n",
      "\n",
      "Caméra de recul\n",
      "False    3048\n",
      "True       81\n",
      "Name: Caméra de recul, dtype: int64\n",
      "\n",
      "Bluetooth\n",
      "False    3048\n",
      "True       81\n",
      "Name: Bluetooth, dtype: int64\n",
      "\n",
      "Jantes aluminium\n",
      "False    3048\n",
      "True       81\n",
      "Name: Jantes aluminium, dtype: int64\n",
      "\n",
      "Volant cuir\n",
      "False    3048\n",
      "True       81\n",
      "Name: Volant cuir, dtype: int64\n",
      "\n",
      "Feux de jour\n",
      "False    3048\n",
      "True       81\n",
      "Name: Feux de jour, dtype: int64\n",
      "\n",
      "Barres de toit\n",
      "False    3048\n",
      "True       81\n",
      "Name: Barres de toit, dtype: int64\n",
      "\n",
      "Toit\n",
      "False    3048\n",
      "True       81\n",
      "Name: Toit, dtype: int64\n",
      "\n",
      "Airbags\n",
      "False    3048\n",
      "True       81\n",
      "Name: Airbags, dtype: int64\n",
      "\n",
      "ABS\n",
      "False    3048\n",
      "True       81\n",
      "Name: ABS, dtype: int64\n",
      "\n",
      "ESP\n",
      "False    3048\n",
      "True       81\n",
      "Name: ESP, dtype: int64\n",
      "\n",
      "Antipatinage\n",
      "False    3048\n",
      "True       81\n",
      "Name: Antipatinage, dtype: int64\n",
      "\n",
      "Architecture\n",
      "True     2284\n",
      "False     845\n",
      "Name: Architecture, dtype: int64\n",
      "\n",
      "Cylindrée\n",
      "True     2284\n",
      "False     845\n",
      "Name: Cylindrée, dtype: int64\n",
      "\n",
      "Conso. ville\n",
      "True     2284\n",
      "False     845\n",
      "Name: Conso. ville, dtype: int64\n",
      "\n",
      "Conso. route\n",
      "True     2284\n",
      "False     845\n",
      "Name: Conso. route, dtype: int64\n",
      "\n",
      "Vitesse maxi.\n",
      "True     2261\n",
      "False     868\n",
      "Name: Vitesse maxi., dtype: int64\n",
      "\n",
      "Volume du réservoir\n",
      "True     2284\n",
      "False     845\n",
      "Name: Volume du réservoir, dtype: int64\n",
      "\n"
     ]
    }
   ],
   "source": [
    "for column in missing_data.columns.values.tolist():\n",
    "    print(column)\n",
    "    print(missing_data[column].value_counts())\n",
    "    print(\"\") "
   ]
  },
  {
   "cell_type": "markdown",
   "metadata": {},
   "source": [
    "Each column has 3128 rows of data and 43 columns containing missing data:\n",
    "\n",
    "\"Modèle\": 66 missing data\n",
    "\"Price\": 66 missing data\n",
    "\"Puissance fiscale\": 81 missing data\n",
    "\"Cylindrée\" : 2284 missing data\n",
    "\"Conso. route\": 2284 missing data\n",
    "\"Vitesse maxi.\": 2261 missing data\n",
    "\"Volume du réservoir\": 2284 missing data\n",
    ".\n",
    ".\n",
    "."
   ]
  },
  {
   "cell_type": "markdown",
   "metadata": {},
   "source": [
    "Deal with missing data\n",
    "1.drop data\n",
    "    a. drop the whole row\n",
    "    b. drop the whole column\n",
    "2.replace data\n",
    "    a. replace it by mean\n",
    "    b. replace it by frequency\n",
    "    c. replace it based on other functions\n",
    "\n",
    "Whole columns should be dropped only if most entries in the column are empty. In our dataset, some columns are empty enough to drop entirely (Architecture 2284 missing data\n",
    "Cylindrée 2284 missing data\n",
    "conso. ville 2284 missing data\n",
    "conso. route 2284 missing data\n",
    "Vitesse maxi. 2261 missing data\n",
    "Volume du réservoire 2284 missing data).\n",
    "We have some freedom in choosing which method to replace data; however, some methods may seem more reasonable than others. We will apply each method to many different columns:\n",
    "\n",
    "Replace by mean:\n",
    "\n",
    "    \"Modèle\": 949 missing data, replace them with mean\n",
    "    \n",
    "\n",
    "Replace by frequency:\n",
    "\n",
    "    \"Main\": 949 missing data, replace them with \"Seconde\".\n",
    "        Reason: 60% sedans is seconde main. Since seconde main is most frequent, it is most likely to occur\n",
    "    \"Carburant\": 963 missing data, replace them with \"Diesel\"\n",
    "        Reason: 90% sedans is diesel carburant\n",
    "    \"Transmision\": 949 missing data, replace them with \"Manuelle\"\n",
    "    \"Couleur extérieure\": 949 missing data, replace them with \"Noir\"\n",
    "    \"Climatisation\" 81 missing data, replace them with \"\"\n",
    "    Vitre électriques: 81 missing data, replace them with \"\"\n",
    "    \"Sièges électriques\": 101 missing data, replace them with \"non\"\n",
    "    \"Ordinateur de board\":\n",
    "    \"Allumage auto. des feux\":\n",
    "    \"Start & Stop\"; replace missing data with \"oui\"\n",
    "Drop the whole row:\n",
    "\n",
    "\"price\": 66 missing data, simply delete the whole row\n",
    "        Reason: price is what we want to predict. Any data entry without price data cannot be used for prediction; therefore any row now without price data is not useful to us\n",
    "\"Brand\", \"Model\", \"Version\", \"Kilométrage\", \"Puissance fiscale\", \"Etat du véhicule\"\n",
    "Drop the whole columns:\n",
    "(Architecture 2284 missing data\n",
    "Cylindrée 2284 missing data\n",
    "conso. ville 2284 missing data\n",
    "conso. route 2284 missing data\n",
    "Vitesse maxi. 2261 missing data\n",
    "Volume du réservoire 2284 missing data).\n",
    "    Reason: most entries in the columns are empty"
   ]
  },
  {
   "cell_type": "markdown",
   "metadata": {},
   "source": [
    "Calculate the average of the columns : \"Modèle\", 'Puissance fiscale'"
   ]
  },
  {
   "cell_type": "code",
   "execution_count": 49,
   "metadata": {},
   "outputs": [
    {
     "name": "stdout",
     "output_type": "stream",
     "text": [
      "Average of modèle: 2012.0022935779816\n"
     ]
    }
   ],
   "source": [
    "avg_modèle = df[\"Modèle\"].astype(\"float\").mean(axis=0)\n",
    "print(\"Average of modèle:\", avg_modèle)"
   ]
  },
  {
   "cell_type": "code",
   "execution_count": 50,
   "metadata": {},
   "outputs": [],
   "source": [
    "import numpy as np\n",
    "df[\"Modèle\"].replace(np.nan,avg_modèle,inplace=True)"
   ]
  },
  {
   "cell_type": "markdown",
   "metadata": {},
   "source": [
    "To see which values are present in a particular column,use the \".value_counts()\" method:"
   ]
  },
  {
   "cell_type": "code",
   "execution_count": 52,
   "metadata": {},
   "outputs": [
    {
     "data": {
      "text/plain": [
       "Seconde     1126\n",
       "Première    1054\n",
       "Name: Main, dtype: int64"
      ]
     },
     "execution_count": 52,
     "metadata": {},
     "output_type": "execute_result"
    }
   ],
   "source": [
    "df['Main'].value_counts()"
   ]
  },
  {
   "cell_type": "markdown",
   "metadata": {},
   "source": [
    "We can see that seconde main is the most common type. We can also use the \".idxmax()\" method to calculate for us the most common type automatically:\n",
    "\n"
   ]
  },
  {
   "cell_type": "code",
   "execution_count": 55,
   "metadata": {},
   "outputs": [
    {
     "data": {
      "text/plain": [
       "'Diesel'"
      ]
     },
     "execution_count": 55,
     "metadata": {},
     "output_type": "execute_result"
    }
   ],
   "source": [
    "df['Main'].value_counts().idxmax()\n"
   ]
  },
  {
   "cell_type": "code",
   "execution_count": 54,
   "metadata": {},
   "outputs": [],
   "source": [
    "#replace the missing 'Main' values by the most frequent \n",
    "df['Main'].replace(np.nan,\"Seconde\",inplace=True)"
   ]
  },
  {
   "cell_type": "code",
   "execution_count": 57,
   "metadata": {},
   "outputs": [
    {
     "data": {
      "text/plain": [
       "Diesel        1902\n",
       "Essence        256\n",
       "Hybride          7\n",
       "Electrique       1\n",
       "Name: Carburant, dtype: int64"
      ]
     },
     "execution_count": 57,
     "metadata": {},
     "output_type": "execute_result"
    }
   ],
   "source": [
    "df['Carburant'].value_counts()"
   ]
  },
  {
   "cell_type": "code",
   "execution_count": 56,
   "metadata": {},
   "outputs": [
    {
     "data": {
      "text/plain": [
       "'Diesel'"
      ]
     },
     "execution_count": 56,
     "metadata": {},
     "output_type": "execute_result"
    }
   ],
   "source": [
    "df['Carburant'].value_counts().idxmax()"
   ]
  },
  {
   "cell_type": "code",
   "execution_count": null,
   "metadata": {},
   "outputs": [],
   "source": [
    "#replace the missing 'Crburant' values by the most frequent \n",
    "df['Carburant'].replace(np.nan,\"Diesel\",inplace=True)"
   ]
  },
  {
   "cell_type": "code",
   "execution_count": 58,
   "metadata": {},
   "outputs": [
    {
     "data": {
      "text/plain": [
       "Manuelle       1146\n",
       "Automatique    1034\n",
       "Name: Transmision, dtype: int64"
      ]
     },
     "execution_count": 58,
     "metadata": {},
     "output_type": "execute_result"
    }
   ],
   "source": [
    "df['Transmision'].value_counts()"
   ]
  },
  {
   "cell_type": "code",
   "execution_count": 59,
   "metadata": {},
   "outputs": [],
   "source": [
    "#replace the missing 'Transmision' values by the most frequent \n",
    "df['Transmision'].replace(np.nan,\"Manuelle\",inplace=True)"
   ]
  },
  {
   "cell_type": "code",
   "execution_count": 68,
   "metadata": {},
   "outputs": [
    {
     "data": {
      "text/plain": [
       "Noir             617\n",
       "Blanc            280\n",
       "Gris foncé       224\n",
       "Gris             222\n",
       "-                219\n",
       "Gris clair       155\n",
       "Bleu foncé        87\n",
       "Autre couleur     67\n",
       "Marron            50\n",
       "Bleu              49\n",
       "Rouge             47\n",
       "Beige             31\n",
       "Blanc cassé       24\n",
       "Bleu ciel         23\n",
       "Bordeau           21\n",
       "Marron clair      17\n",
       "Vert foncé        13\n",
       "Jaune d'or        10\n",
       "Violet             9\n",
       "Vert               9\n",
       "Orange             2\n",
       "Jaune              2\n",
       "Rose               2\n",
       "Name: Couleur extérieure, dtype: int64"
      ]
     },
     "execution_count": 68,
     "metadata": {},
     "output_type": "execute_result"
    }
   ],
   "source": [
    "df['Couleur extérieure'].value_counts()"
   ]
  },
  {
   "cell_type": "code",
   "execution_count": 69,
   "metadata": {},
   "outputs": [],
   "source": [
    "#replace the missing 'Couleur extérieure' values by the most frequent \n",
    "df['Couleur extérieure'].replace(np.nan,\"Noir\",inplace=True)"
   ]
  },
  {
   "cell_type": "code",
   "execution_count": 71,
   "metadata": {},
   "outputs": [
    {
     "data": {
      "text/plain": [
       "auto. Bi-zone        946\n",
       "manuelle             926\n",
       "auto.                513\n",
       "non                  409\n",
       "auto. Tri-zone       141\n",
       "auto. Multi-zone      59\n",
       "auto. Quadri-zone     53\n",
       "تلقاءي.                1\n",
       "Name: Climatisation, dtype: int64"
      ]
     },
     "execution_count": 71,
     "metadata": {},
     "output_type": "execute_result"
    }
   ],
   "source": [
    "df['Climatisation'].value_counts()\n"
   ]
  },
  {
   "cell_type": "code",
   "execution_count": 72,
   "metadata": {},
   "outputs": [],
   "source": [
    "#replace the missing 'Climatisation' values by the most frequent \n",
    "df['Climatisation'].replace(np.nan,\"auto. Bi-zone\",inplace=True)"
   ]
  },
  {
   "cell_type": "code",
   "execution_count": 73,
   "metadata": {},
   "outputs": [
    {
     "data": {
      "text/plain": [
       "Electrique AV/AR    1935\n",
       "Electrique AV        657\n",
       "-                    445\n",
       "non                    8\n",
       "Electrique AR          3\n",
       "Name: Vitres électriques, dtype: int64"
      ]
     },
     "execution_count": 73,
     "metadata": {},
     "output_type": "execute_result"
    }
   ],
   "source": [
    "df['Vitres électriques'].value_counts()\n"
   ]
  },
  {
   "cell_type": "code",
   "execution_count": 74,
   "metadata": {},
   "outputs": [],
   "source": [
    "#replace the missing 'Vitres électriques' values by the most frequent \n",
    "df['Vitres électriques'].replace(np.nan,\"Electrique AV/AR\",inplace=True)"
   ]
  },
  {
   "cell_type": "code",
   "execution_count": 75,
   "metadata": {},
   "outputs": [
    {
     "data": {
      "text/plain": [
       "non                       2006\n",
       "Conducteur et Passager     594\n",
       "Conducteur                 340\n",
       "Tous les passagers          76\n",
       "Passager                    12\n",
       "Name: Sièges électriques, dtype: int64"
      ]
     },
     "execution_count": 75,
     "metadata": {},
     "output_type": "execute_result"
    }
   ],
   "source": [
    "df['Sièges électriques'].value_counts()\n"
   ]
  },
  {
   "cell_type": "code",
   "execution_count": 76,
   "metadata": {},
   "outputs": [],
   "source": [
    "#replace the missing 'Vitres électriques' values by the most frequent \n",
    "df['Sièges électriques'].replace(np.nan,\"non\",inplace=True)"
   ]
  },
  {
   "cell_type": "code",
   "execution_count": 77,
   "metadata": {},
   "outputs": [
    {
     "data": {
      "text/plain": [
       "oui    2192\n",
       "non     856\n",
       "Name: Ordinateur de bord, dtype: int64"
      ]
     },
     "execution_count": 77,
     "metadata": {},
     "output_type": "execute_result"
    }
   ],
   "source": [
    "df['Ordinateur de bord'].value_counts()\n",
    "\n"
   ]
  },
  {
   "cell_type": "code",
   "execution_count": 78,
   "metadata": {},
   "outputs": [],
   "source": [
    "#replace the missing 'Ordinateur de bord' values by the most frequent \n",
    "df['Ordinateur de bord'].replace(np.nan,\"oui\",inplace=True)"
   ]
  },
  {
   "cell_type": "code",
   "execution_count": 79,
   "metadata": {},
   "outputs": [
    {
     "data": {
      "text/plain": [
       "non    1775\n",
       "oui    1273\n",
       "Name: Start & Stop, dtype: int64"
      ]
     },
     "execution_count": 79,
     "metadata": {},
     "output_type": "execute_result"
    }
   ],
   "source": [
    "df['Start & Stop'].value_counts()\n",
    "\n"
   ]
  },
  {
   "cell_type": "code",
   "execution_count": null,
   "metadata": {},
   "outputs": [],
   "source": [
    "#replace the missing 'Start & Stop' values by the most frequent \n",
    "df['Start & Stop'].replace(np.nan,\"oui\",inplace=True)"
   ]
  },
  {
   "cell_type": "code",
   "execution_count": 80,
   "metadata": {},
   "outputs": [
    {
     "data": {
      "text/plain": [
       "oui    2186\n",
       "non     862\n",
       "Name: Régulateur de vitesse, dtype: int64"
      ]
     },
     "execution_count": 80,
     "metadata": {},
     "output_type": "execute_result"
    }
   ],
   "source": [
    "df['Régulateur de vitesse'].value_counts()\n"
   ]
  },
  {
   "cell_type": "code",
   "execution_count": 81,
   "metadata": {},
   "outputs": [],
   "source": [
    "#replace the missing 'Régulateur de vitesse' values by the most frequent \n",
    "df['Régulateur de vitesse'].replace(np.nan,\"oui\",inplace=True)"
   ]
  },
  {
   "cell_type": "code",
   "execution_count": 82,
   "metadata": {},
   "outputs": [
    {
     "data": {
      "text/plain": [
       "oui    1742\n",
       "non    1306\n",
       "Name: Allumage auto. des feux, dtype: int64"
      ]
     },
     "execution_count": 82,
     "metadata": {},
     "output_type": "execute_result"
    }
   ],
   "source": [
    "df['Allumage auto. des feux'].value_counts()\n"
   ]
  },
  {
   "cell_type": "code",
   "execution_count": 83,
   "metadata": {},
   "outputs": [],
   "source": [
    "#replace the missing 'Allumage auto. des feux' values by the most frequent \n",
    "df['Allumage auto. des feux'].replace(np.nan,\"oui\",inplace=True)"
   ]
  },
  {
   "cell_type": "code",
   "execution_count": 84,
   "metadata": {},
   "outputs": [
    {
     "data": {
      "text/plain": [
       "oui    1590\n",
       "non    1458\n",
       "Name: Détecteur de pluie, dtype: int64"
      ]
     },
     "execution_count": 84,
     "metadata": {},
     "output_type": "execute_result"
    }
   ],
   "source": [
    "df['Détecteur de pluie'].value_counts()\n"
   ]
  },
  {
   "cell_type": "code",
   "execution_count": 85,
   "metadata": {},
   "outputs": [],
   "source": [
    "#replace the missing 'Détecteur de pluie' values by the most frequent \n",
    "df['Détecteur de pluie'].replace(np.nan,\"oui\",inplace=True)"
   ]
  },
  {
   "cell_type": "code",
   "execution_count": 86,
   "metadata": {},
   "outputs": [
    {
     "data": {
      "text/plain": [
       "oui    2132\n",
       "non     916\n",
       "Name: Commandes au volant, dtype: int64"
      ]
     },
     "execution_count": 86,
     "metadata": {},
     "output_type": "execute_result"
    }
   ],
   "source": [
    "df['Commandes au volant'].value_counts()"
   ]
  },
  {
   "cell_type": "code",
   "execution_count": null,
   "metadata": {},
   "outputs": [],
   "source": [
    "#replace the missing 'Commandes au volant' values by the most frequent \n",
    "df['Commandes au volant'].replace(np.nan,\"oui\",inplace=True)"
   ]
  },
  {
   "cell_type": "code",
   "execution_count": 87,
   "metadata": {},
   "outputs": [
    {
     "data": {
      "text/plain": [
       "oui    1662\n",
       "non    1386\n",
       "Name: Ecran tactile, dtype: int64"
      ]
     },
     "execution_count": 87,
     "metadata": {},
     "output_type": "execute_result"
    }
   ],
   "source": [
    "\n",
    "df['Ecran tactile'].value_counts()"
   ]
  },
  {
   "cell_type": "code",
   "execution_count": 88,
   "metadata": {},
   "outputs": [],
   "source": [
    "#replace the missing 'Ecran tactile' values by the most frequent \n",
    "df['Ecran tactile'].replace(np.nan,\"oui\",inplace=True)"
   ]
  },
  {
   "cell_type": "code",
   "execution_count": 89,
   "metadata": {},
   "outputs": [
    {
     "data": {
      "text/plain": [
       "oui    2139\n",
       "non     909\n",
       "Name: Rétroviseurs électriques, dtype: int64"
      ]
     },
     "execution_count": 89,
     "metadata": {},
     "output_type": "execute_result"
    }
   ],
   "source": [
    "df['Rétroviseurs électriques'].value_counts()"
   ]
  },
  {
   "cell_type": "code",
   "execution_count": null,
   "metadata": {},
   "outputs": [],
   "source": [
    "#replace the missing 'Rétroviseurs électriques' values by the most frequent \n",
    "df['Rétroviseurs électriques'].replace(np.nan,\"oui\",inplace=True)"
   ]
  },
  {
   "cell_type": "code",
   "execution_count": 90,
   "metadata": {},
   "outputs": [
    {
     "data": {
      "text/plain": [
       "non    1666\n",
       "oui    1382\n",
       "Name: Démarrage mains libres, dtype: int64"
      ]
     },
     "execution_count": 90,
     "metadata": {},
     "output_type": "execute_result"
    }
   ],
   "source": [
    "df['Démarrage mains libres'].value_counts()"
   ]
  },
  {
   "cell_type": "code",
   "execution_count": 91,
   "metadata": {},
   "outputs": [],
   "source": [
    "#replace the missing 'Démarrage mains libres' values by the most frequent \n",
    "df['Démarrage mains libres'].replace(np.nan,\"non\",inplace=True)"
   ]
  },
  {
   "cell_type": "code",
   "execution_count": 92,
   "metadata": {},
   "outputs": [
    {
     "data": {
      "text/plain": [
       "oui    1655\n",
       "non    1393\n",
       "Name: Banquette arrière rabattable 1/3-2/3, dtype: int64"
      ]
     },
     "execution_count": 92,
     "metadata": {},
     "output_type": "execute_result"
    }
   ],
   "source": [
    "df['Banquette arrière rabattable 1/3-2/3'].value_counts()"
   ]
  },
  {
   "cell_type": "code",
   "execution_count": 93,
   "metadata": {},
   "outputs": [],
   "source": [
    "#replace the missing 'Banquette arrière rabattable 1/3-2/3' values by the most frequent \n",
    "df['Banquette arrière rabattable 1/3-2/3'].replace(np.nan,\"oui\",inplace=True)"
   ]
  },
  {
   "cell_type": "code",
   "execution_count": 94,
   "metadata": {},
   "outputs": [
    {
     "data": {
      "text/plain": [
       "non    1706\n",
       "oui    1342\n",
       "Name: Caméra de recul, dtype: int64"
      ]
     },
     "execution_count": 94,
     "metadata": {},
     "output_type": "execute_result"
    }
   ],
   "source": [
    "df['Caméra de recul'].value_counts()"
   ]
  },
  {
   "cell_type": "code",
   "execution_count": 95,
   "metadata": {},
   "outputs": [],
   "source": [
    "#replace the missing 'Caméra de recul' values by the most frequent \n",
    "df['Caméra de recul'].replace(np.nan,\"non\",inplace=True)"
   ]
  },
  {
   "cell_type": "code",
   "execution_count": 96,
   "metadata": {},
   "outputs": [
    {
     "data": {
      "text/plain": [
       "oui    2116\n",
       "non     932\n",
       "Name: Bluetooth, dtype: int64"
      ]
     },
     "execution_count": 96,
     "metadata": {},
     "output_type": "execute_result"
    }
   ],
   "source": [
    "df['Bluetooth'].value_counts()"
   ]
  },
  {
   "cell_type": "code",
   "execution_count": 97,
   "metadata": {},
   "outputs": [],
   "source": [
    "#replace the missing 'Bluetooth' values by the most frequent \n",
    "df['Bluetooth'].replace(np.nan,\"oui\",inplace=True)"
   ]
  },
  {
   "cell_type": "code",
   "execution_count": 98,
   "metadata": {},
   "outputs": [
    {
     "data": {
      "text/plain": [
       "oui          1429\n",
       "non           837\n",
       "18 pouces     198\n",
       "17 pouces     187\n",
       "19 pouces     155\n",
       "16 pouces     107\n",
       "20 pouces      76\n",
       "21 pouces      24\n",
       "15 pouces      22\n",
       "14 pouces       8\n",
       "22 pouces       5\n",
       "Name: Jantes aluminium, dtype: int64"
      ]
     },
     "execution_count": 98,
     "metadata": {},
     "output_type": "execute_result"
    }
   ],
   "source": [
    "df['Jantes aluminium'].value_counts()"
   ]
  },
  {
   "cell_type": "code",
   "execution_count": 99,
   "metadata": {},
   "outputs": [],
   "source": [
    "#replace the missing 'Jantes aluminium' values by the most frequent \n",
    "df['Jantes aluminium'].replace(np.nan,\"oui\",inplace=True)"
   ]
  },
  {
   "cell_type": "code",
   "execution_count": 100,
   "metadata": {},
   "outputs": [
    {
     "data": {
      "text/plain": [
       "non    1830\n",
       "oui    1218\n",
       "Name: Volant cuir, dtype: int64"
      ]
     },
     "execution_count": 100,
     "metadata": {},
     "output_type": "execute_result"
    }
   ],
   "source": [
    "df['Volant cuir'].value_counts()"
   ]
  },
  {
   "cell_type": "code",
   "execution_count": 101,
   "metadata": {},
   "outputs": [],
   "source": [
    "#replace the missing 'Volant cuir' values by the most frequent \n",
    "df['Volant cuir'].replace(np.nan,\"non\",inplace=True)"
   ]
  },
  {
   "cell_type": "code",
   "execution_count": 102,
   "metadata": {},
   "outputs": [
    {
     "data": {
      "text/plain": [
       "oui    1870\n",
       "non    1178\n",
       "Name: Feux de jour, dtype: int64"
      ]
     },
     "execution_count": 102,
     "metadata": {},
     "output_type": "execute_result"
    }
   ],
   "source": [
    "df['Feux de jour'].value_counts()"
   ]
  },
  {
   "cell_type": "code",
   "execution_count": null,
   "metadata": {},
   "outputs": [],
   "source": [
    "#replace the missing 'Feux de jour' values by the most frequent \n",
    "df['Feux de jour'].replace(np.nan,\"oui\",inplace=True)"
   ]
  },
  {
   "cell_type": "code",
   "execution_count": 103,
   "metadata": {},
   "outputs": [
    {
     "data": {
      "text/plain": [
       "non    2316\n",
       "oui     732\n",
       "Name: Barres de toit, dtype: int64"
      ]
     },
     "execution_count": 103,
     "metadata": {},
     "output_type": "execute_result"
    }
   ],
   "source": [
    "df['Barres de toit'].value_counts()"
   ]
  },
  {
   "cell_type": "code",
   "execution_count": null,
   "metadata": {},
   "outputs": [],
   "source": [
    "#replace the missing 'Barres de toit' values by the most frequent \n",
    "df['Barres de toit'].replace(np.nan,\"non\",inplace=True)"
   ]
  },
  {
   "cell_type": "code",
   "execution_count": 104,
   "metadata": {},
   "outputs": [
    {
     "data": {
      "text/plain": [
       "Rigide                 2394\n",
       "Panoramique ouvrant     362\n",
       "Panoramique             198\n",
       "Ouvrant                  94\n",
       "Name: Toit, dtype: int64"
      ]
     },
     "execution_count": 104,
     "metadata": {},
     "output_type": "execute_result"
    }
   ],
   "source": [
    "df['Toit'].value_counts()"
   ]
  },
  {
   "cell_type": "code",
   "execution_count": 105,
   "metadata": {},
   "outputs": [],
   "source": [
    "#replace the missing 'Toit' values by the most frequent \n",
    "df['Toit'].replace(np.nan,\"Rigide\",inplace=True)"
   ]
  },
  {
   "cell_type": "code",
   "execution_count": 106,
   "metadata": {},
   "outputs": [
    {
     "data": {
      "text/plain": [
       "oui     1922\n",
       "6.0      290\n",
       "non      258\n",
       "8.0      183\n",
       "7.0      171\n",
       "2.0      117\n",
       "4.0       51\n",
       "9.0       24\n",
       "10.0      23\n",
       "0.0        7\n",
       "1.0        2\n",
       "Name: Airbags, dtype: int64"
      ]
     },
     "execution_count": 106,
     "metadata": {},
     "output_type": "execute_result"
    }
   ],
   "source": [
    "df['Airbags'].value_counts()"
   ]
  },
  {
   "cell_type": "code",
   "execution_count": null,
   "metadata": {},
   "outputs": [],
   "source": [
    "#replace the missing 'Airbags' values by the most frequent \n",
    "df['Airbags'].replace(np.nan,\"oui\",inplace=True)"
   ]
  },
  {
   "cell_type": "code",
   "execution_count": 107,
   "metadata": {},
   "outputs": [
    {
     "data": {
      "text/plain": [
       "oui    2704\n",
       "non     344\n",
       "Name: ABS, dtype: int64"
      ]
     },
     "execution_count": 107,
     "metadata": {},
     "output_type": "execute_result"
    }
   ],
   "source": [
    "df['ABS'].value_counts()"
   ]
  },
  {
   "cell_type": "code",
   "execution_count": 108,
   "metadata": {},
   "outputs": [],
   "source": [
    "#replace the missing 'ABS' values by the most frequent \n",
    "df['ABS'].replace(np.nan,\"oui\",inplace=True)"
   ]
  },
  {
   "cell_type": "code",
   "execution_count": 109,
   "metadata": {},
   "outputs": [
    {
     "data": {
      "text/plain": [
       "oui    2235\n",
       "non     813\n",
       "Name: ESP, dtype: int64"
      ]
     },
     "execution_count": 109,
     "metadata": {},
     "output_type": "execute_result"
    }
   ],
   "source": [
    "df['ESP'].value_counts()"
   ]
  },
  {
   "cell_type": "code",
   "execution_count": 110,
   "metadata": {},
   "outputs": [],
   "source": [
    "#replace the missing 'ESP' values by the most frequent \n",
    "df['ESP'].replace(np.nan,\"oui\",inplace=True)"
   ]
  },
  {
   "cell_type": "code",
   "execution_count": 111,
   "metadata": {},
   "outputs": [
    {
     "data": {
      "text/plain": [
       "oui    2094\n",
       "non     954\n",
       "Name: Antipatinage, dtype: int64"
      ]
     },
     "execution_count": 111,
     "metadata": {},
     "output_type": "execute_result"
    }
   ],
   "source": [
    "df['Antipatinage'].value_counts()"
   ]
  },
  {
   "cell_type": "code",
   "execution_count": 112,
   "metadata": {},
   "outputs": [],
   "source": [
    "#replace the missing 'Antipatinage' values by the most frequent \n",
    "df['Antipatinage'].replace(np.nan,\"oui\",inplace=True)"
   ]
  },
  {
   "cell_type": "code",
   "execution_count": 51,
   "metadata": {},
   "outputs": [
    {
     "name": "stdout",
     "output_type": "stream",
     "text": [
      "         Brand           Model        Version                           Price  \\\n",
      "0     MERCEDES   Classe C 2014          220 d                      228.000 DH   \n",
      "1     MERCEDES   Classe C 2003        220 CDI                       79.000 DH   \n",
      "2     MERCEDES   Classe B 2013    180 d Urban                      150.000 DH   \n",
      "3     MERCEDES   Classe E 2006  Autre version                      135.000 DH   \n",
      "4     MERCEDES  CLA Coupé 2014        220 CDI                      240.000 DH   \n",
      "...        ...             ...            ...                             ...   \n",
      "3124     VOLVO            XC90            NaN    630.000 DH *   * Prix public   \n",
      "3125     VOLVO            XC90            NaN    730.000 DH *   * Prix public   \n",
      "3126     VOLVO            XC90            NaN    850.000 DH *   * Prix public   \n",
      "3127     VOLVO            XC90            NaN  1.000.000 DH *   * Prix public   \n",
      "3128     VOLVO            XC90            NaN  1.100.000 DH *   * Prix public   \n",
      "\n",
      "           Modèle     Main Kilométrage Carburant  Transmision  \\\n",
      "0     2014.000000  Seconde  144.500 km    Diesel  Automatique   \n",
      "1     2003.000000  Seconde  350.000 km    Diesel     Manuelle   \n",
      "2     2013.000000  Seconde  144.000 km    Diesel     Manuelle   \n",
      "3     2006.000000  Seconde  248.000 km    Diesel  Automatique   \n",
      "4     2014.000000  Seconde  103.000 km    Diesel  Automatique   \n",
      "...           ...      ...         ...       ...          ...   \n",
      "3124  2012.002294      NaN         NaN       NaN          NaN   \n",
      "3125  2012.002294      NaN         NaN       NaN          NaN   \n",
      "3126  2012.002294      NaN         NaN       NaN          NaN   \n",
      "3127  2012.002294      NaN         NaN       NaN          NaN   \n",
      "3128  2012.002294      NaN         NaN       NaN          NaN   \n",
      "\n",
      "     Puissance fiscale  ... Bluetooth Jantes aluminium Volant cuir  \\\n",
      "0                 8 cv  ...       oui              oui         oui   \n",
      "1                 8 cv  ...       oui              oui         non   \n",
      "2                 8 cv  ...       oui              oui         oui   \n",
      "3                 9 cv  ...       oui              oui         non   \n",
      "4                 9 cv  ...       oui              oui         non   \n",
      "...                ...  ...       ...              ...         ...   \n",
      "3124              8 cv  ...       oui        19 pouces         oui   \n",
      "3125              8 cv  ...       oui        20 pouces         oui   \n",
      "3126              8 cv  ...       oui        20 pouces         oui   \n",
      "3127             11 cv  ...       oui        20 pouces         oui   \n",
      "3128             11 cv  ...       oui        20 pouces         oui   \n",
      "\n",
      "     Feux de jour Barres de toit                 Toit Airbags  ABS  ESP  \\\n",
      "0             oui            non               Rigide     oui  oui  oui   \n",
      "1             oui            non               Rigide     oui  oui  oui   \n",
      "2             oui            non               Rigide     oui  oui  oui   \n",
      "3             oui            oui               Rigide     oui  oui  oui   \n",
      "4             oui            non          Panoramique     oui  oui  oui   \n",
      "...           ...            ...                  ...     ...  ...  ...   \n",
      "3124          oui            oui               Rigide     7.0  oui  oui   \n",
      "3125          oui            oui  Panoramique ouvrant     7.0  oui  oui   \n",
      "3126          oui            oui  Panoramique ouvrant     7.0  oui  oui   \n",
      "3127          oui            oui  Panoramique ouvrant     7.0  oui  oui   \n",
      "3128          oui            oui  Panoramique ouvrant     7.0  oui  oui   \n",
      "\n",
      "     Antipatinage  \n",
      "0             oui  \n",
      "1             oui  \n",
      "2             oui  \n",
      "3             oui  \n",
      "4             oui  \n",
      "...           ...  \n",
      "3124          oui  \n",
      "3125          oui  \n",
      "3126          oui  \n",
      "3127          oui  \n",
      "3128          oui  \n",
      "\n",
      "[3129 rows x 37 columns]\n"
     ]
    }
   ],
   "source": [
    "# Delete some columns by name ['Cylindrée', 'Conso. ville', 'Conso. route', 'Vitesse maxi.', 'Volume du réservoir']\n",
    "df = df.drop(['Architecture', 'Cylindrée', 'Conso. ville', 'Conso. route', 'Vitesse maxi.', 'Volume du réservoir'], axis=1)\n",
    "print(df)"
   ]
  },
  {
   "cell_type": "markdown",
   "metadata": {},
   "source": [
    "Finally, let's drop all rows that do not have price, brand, model... data:"
   ]
  },
  {
   "cell_type": "code",
   "execution_count": 163,
   "metadata": {},
   "outputs": [],
   "source": [
    "# simply drop whole row with NaN in \"price\", \"Brand\", \"Model\", \"Version\" columns\n",
    "df.dropna(subset=[\"Price\"],axis=0,inplace=True)\n",
    "df.dropna(subset=[\"Brand\"],axis=0,inplace=True)\n",
    "df.dropna(subset=[\"Model\"],axis=0,inplace=True)\n",
    "df.dropna(subset=[\"Version\"],axis=0,inplace=True)\n",
    "df.dropna(subset=[\"Kilométrage\"],axis=0,inplace=True)\n",
    "df.dropna(subset=[\"Puissance fiscale\"],axis=0,inplace=True)\n",
    "df.dropna(subset=[\"Etat du véhicule\"],axis=0,inplace=True)\n",
    "df.dropna(subset=[\"Ouverture auto. du coffre\"],axis=0,inplace=True)\n",
    "\n",
    "\n",
    "# reset index, because we droped two rows\n",
    "df.reset_index(drop=True,inplace=True)"
   ]
  },
  {
   "cell_type": "code",
   "execution_count": 114,
   "metadata": {},
   "outputs": [
    {
     "data": {
      "text/html": [
       "<div>\n",
       "<style scoped>\n",
       "    .dataframe tbody tr th:only-of-type {\n",
       "        vertical-align: middle;\n",
       "    }\n",
       "\n",
       "    .dataframe tbody tr th {\n",
       "        vertical-align: top;\n",
       "    }\n",
       "\n",
       "    .dataframe thead th {\n",
       "        text-align: right;\n",
       "    }\n",
       "</style>\n",
       "<table border=\"1\" class=\"dataframe\">\n",
       "  <thead>\n",
       "    <tr style=\"text-align: right;\">\n",
       "      <th></th>\n",
       "      <th>Brand</th>\n",
       "      <th>Model</th>\n",
       "      <th>Version</th>\n",
       "      <th>Price</th>\n",
       "      <th>Modèle</th>\n",
       "      <th>Main</th>\n",
       "      <th>Kilométrage</th>\n",
       "      <th>Carburant</th>\n",
       "      <th>Transmision</th>\n",
       "      <th>Puissance fiscale</th>\n",
       "      <th>...</th>\n",
       "      <th>Bluetooth</th>\n",
       "      <th>Jantes aluminium</th>\n",
       "      <th>Volant cuir</th>\n",
       "      <th>Feux de jour</th>\n",
       "      <th>Barres de toit</th>\n",
       "      <th>Toit</th>\n",
       "      <th>Airbags</th>\n",
       "      <th>ABS</th>\n",
       "      <th>ESP</th>\n",
       "      <th>Antipatinage</th>\n",
       "    </tr>\n",
       "  </thead>\n",
       "  <tbody>\n",
       "    <tr>\n",
       "      <th>0</th>\n",
       "      <td>MERCEDES</td>\n",
       "      <td>Classe C 2014</td>\n",
       "      <td>220 d</td>\n",
       "      <td>228.000 DH</td>\n",
       "      <td>2014.0</td>\n",
       "      <td>Seconde</td>\n",
       "      <td>144.500 km</td>\n",
       "      <td>Diesel</td>\n",
       "      <td>Automatique</td>\n",
       "      <td></td>\n",
       "      <td>...</td>\n",
       "      <td>oui</td>\n",
       "      <td>oui</td>\n",
       "      <td>oui</td>\n",
       "      <td>oui</td>\n",
       "      <td>non</td>\n",
       "      <td>Rigide</td>\n",
       "      <td>oui</td>\n",
       "      <td>oui</td>\n",
       "      <td>oui</td>\n",
       "      <td>oui</td>\n",
       "    </tr>\n",
       "    <tr>\n",
       "      <th>1</th>\n",
       "      <td>MERCEDES</td>\n",
       "      <td>Classe C 2003</td>\n",
       "      <td>220 CDI</td>\n",
       "      <td>79.000 DH</td>\n",
       "      <td>2003.0</td>\n",
       "      <td>Seconde</td>\n",
       "      <td>350.000 km</td>\n",
       "      <td>Diesel</td>\n",
       "      <td>Manuelle</td>\n",
       "      <td></td>\n",
       "      <td>...</td>\n",
       "      <td>oui</td>\n",
       "      <td>oui</td>\n",
       "      <td>non</td>\n",
       "      <td>oui</td>\n",
       "      <td>non</td>\n",
       "      <td>Rigide</td>\n",
       "      <td>oui</td>\n",
       "      <td>oui</td>\n",
       "      <td>oui</td>\n",
       "      <td>oui</td>\n",
       "    </tr>\n",
       "    <tr>\n",
       "      <th>2</th>\n",
       "      <td>MERCEDES</td>\n",
       "      <td>Classe B 2013</td>\n",
       "      <td>180 d Urban</td>\n",
       "      <td>150.000 DH</td>\n",
       "      <td>2013.0</td>\n",
       "      <td>Seconde</td>\n",
       "      <td>144.000 km</td>\n",
       "      <td>Diesel</td>\n",
       "      <td>Manuelle</td>\n",
       "      <td></td>\n",
       "      <td>...</td>\n",
       "      <td>oui</td>\n",
       "      <td>oui</td>\n",
       "      <td>oui</td>\n",
       "      <td>oui</td>\n",
       "      <td>non</td>\n",
       "      <td>Rigide</td>\n",
       "      <td>oui</td>\n",
       "      <td>oui</td>\n",
       "      <td>oui</td>\n",
       "      <td>oui</td>\n",
       "    </tr>\n",
       "    <tr>\n",
       "      <th>3</th>\n",
       "      <td>MERCEDES</td>\n",
       "      <td>Classe E 2006</td>\n",
       "      <td>Autre version</td>\n",
       "      <td>135.000 DH</td>\n",
       "      <td>2006.0</td>\n",
       "      <td>Seconde</td>\n",
       "      <td>248.000 km</td>\n",
       "      <td>Diesel</td>\n",
       "      <td>Automatique</td>\n",
       "      <td></td>\n",
       "      <td>...</td>\n",
       "      <td>oui</td>\n",
       "      <td>oui</td>\n",
       "      <td>non</td>\n",
       "      <td>oui</td>\n",
       "      <td>oui</td>\n",
       "      <td>Rigide</td>\n",
       "      <td>oui</td>\n",
       "      <td>oui</td>\n",
       "      <td>oui</td>\n",
       "      <td>oui</td>\n",
       "    </tr>\n",
       "    <tr>\n",
       "      <th>4</th>\n",
       "      <td>MERCEDES</td>\n",
       "      <td>CLA Coupé 2014</td>\n",
       "      <td>220 CDI</td>\n",
       "      <td>240.000 DH</td>\n",
       "      <td>2014.0</td>\n",
       "      <td>Seconde</td>\n",
       "      <td>103.000 km</td>\n",
       "      <td>Diesel</td>\n",
       "      <td>Automatique</td>\n",
       "      <td></td>\n",
       "      <td>...</td>\n",
       "      <td>oui</td>\n",
       "      <td>oui</td>\n",
       "      <td>non</td>\n",
       "      <td>oui</td>\n",
       "      <td>non</td>\n",
       "      <td>Panoramique</td>\n",
       "      <td>oui</td>\n",
       "      <td>oui</td>\n",
       "      <td>oui</td>\n",
       "      <td>oui</td>\n",
       "    </tr>\n",
       "  </tbody>\n",
       "</table>\n",
       "<p>5 rows × 37 columns</p>\n",
       "</div>"
      ],
      "text/plain": [
       "      Brand           Model        Version       Price  Modèle     Main  \\\n",
       "0  MERCEDES   Classe C 2014          220 d  228.000 DH  2014.0  Seconde   \n",
       "1  MERCEDES   Classe C 2003        220 CDI   79.000 DH  2003.0  Seconde   \n",
       "2  MERCEDES   Classe B 2013    180 d Urban  150.000 DH  2013.0  Seconde   \n",
       "3  MERCEDES   Classe E 2006  Autre version  135.000 DH  2006.0  Seconde   \n",
       "4  MERCEDES  CLA Coupé 2014        220 CDI  240.000 DH  2014.0  Seconde   \n",
       "\n",
       "  Kilométrage Carburant  Transmision Puissance fiscale  ... Bluetooth  \\\n",
       "0  144.500 km    Diesel  Automatique                    ...       oui   \n",
       "1  350.000 km    Diesel     Manuelle                    ...       oui   \n",
       "2  144.000 km    Diesel     Manuelle                    ...       oui   \n",
       "3  248.000 km    Diesel  Automatique                    ...       oui   \n",
       "4  103.000 km    Diesel  Automatique                    ...       oui   \n",
       "\n",
       "  Jantes aluminium Volant cuir Feux de jour Barres de toit         Toit  \\\n",
       "0              oui         oui          oui            non       Rigide   \n",
       "1              oui         non          oui            non       Rigide   \n",
       "2              oui         oui          oui            non       Rigide   \n",
       "3              oui         non          oui            oui       Rigide   \n",
       "4              oui         non          oui            non  Panoramique   \n",
       "\n",
       "  Airbags  ABS  ESP Antipatinage  \n",
       "0     oui  oui  oui          oui  \n",
       "1     oui  oui  oui          oui  \n",
       "2     oui  oui  oui          oui  \n",
       "3     oui  oui  oui          oui  \n",
       "4     oui  oui  oui          oui  \n",
       "\n",
       "[5 rows x 37 columns]"
      ]
     },
     "execution_count": 114,
     "metadata": {},
     "output_type": "execute_result"
    }
   ],
   "source": [
    "df.head()"
   ]
  },
  {
   "cell_type": "code",
   "execution_count": 179,
   "metadata": {},
   "outputs": [
    {
     "name": "stderr",
     "output_type": "stream",
     "text": [
      "C:\\Users\\GeekStore\\AppData\\Local\\Temp\\ipykernel_8388\\3965877181.py:3: FutureWarning: The default value of regex will change from True to False in a future version.\n",
      "  df['Price'] = df['Price'].str.replace(' * promo','')\n",
      "C:\\Users\\GeekStore\\AppData\\Local\\Temp\\ipykernel_8388\\3965877181.py:4: FutureWarning: The default value of regex will change from True to False in a future version. In addition, single character regular expressions will *not* be treated as literal strings when regex=True.\n",
      "  df['Price'] = df['Price'].str.replace('.','')\n",
      "C:\\Users\\GeekStore\\AppData\\Local\\Temp\\ipykernel_8388\\3965877181.py:5: FutureWarning: The default value of regex will change from True to False in a future version.\n",
      "  df['Price'] = df['Price'].str.replace(' *','')\n",
      "C:\\Users\\GeekStore\\AppData\\Local\\Temp\\ipykernel_8388\\3965877181.py:6: FutureWarning: The default value of regex will change from True to False in a future version. In addition, single character regular expressions will *not* be treated as literal strings when regex=True.\n",
      "  df['Price'] = df['Price'].str.replace('*','')\n"
     ]
    }
   ],
   "source": [
    "df['Price'] = df['Price'].str.replace(' VENDUE','')\n",
    "df['Price'] = df['Price'].str.replace(' DH','')\n",
    "df['Price'] = df['Price'].str.replace(' * promo','')\n",
    "df['Price'] = df['Price'].str.replace('.','')\n",
    "df['Price'] = df['Price'].str.replace(' *','')\n",
    "df['Price'] = df['Price'].str.replace('*','')\n",
    "df['Price'] = df['Price'].str.replace('Prixpublic','')\n",
    "\n",
    "\n",
    "df['Price'] = df['Price'].astype(float)"
   ]
  },
  {
   "cell_type": "code",
   "execution_count": null,
   "metadata": {},
   "outputs": [],
   "source": [
    "df.head()"
   ]
  },
  {
   "cell_type": "markdown",
   "metadata": {},
   "source": [
    "Now, the dataset with no missing values is obtained."
   ]
  },
  {
   "cell_type": "markdown",
   "metadata": {},
   "source": [
    "Lets list the data types for each column"
   ]
  },
  {
   "cell_type": "code",
   "execution_count": 180,
   "metadata": {},
   "outputs": [
    {
     "data": {
      "text/plain": [
       "Brand                                    object\n",
       "Model                                    object\n",
       "Version                                  object\n",
       "Price                                   float64\n",
       "Modèle                                  float64\n",
       "Main                                     object\n",
       "Kilométrage                              object\n",
       "Carburant                                object\n",
       "Transmision                              object\n",
       "Puissance fiscale                        object\n",
       "Couleur extérieure                       object\n",
       "Etat du véhicule                         object\n",
       "Climatisation                            object\n",
       "Vitres électriques                       object\n",
       "Sièges électriques                       object\n",
       "Ordinateur de bord                       object\n",
       "Start & Stop                             object\n",
       "Régulateur de vitesse                    object\n",
       "Allumage auto. des feux                  object\n",
       "Détecteur de pluie                       object\n",
       "Commandes au volant                      object\n",
       "Ecran tactile                            object\n",
       "Rétroviseurs électriques                 object\n",
       "Ouverture auto. du coffre                object\n",
       "Démarrage mains libres                   object\n",
       "Banquette arrière rabattable 1/3-2/3     object\n",
       "Caméra de recul                          object\n",
       "Bluetooth                                object\n",
       "Jantes aluminium                         object\n",
       "Volant cuir                              object\n",
       "Feux de jour                             object\n",
       "Barres de toit                           object\n",
       "Toit                                     object\n",
       "Airbags                                  object\n",
       "ABS                                      object\n",
       "ESP                                      object\n",
       "Antipatinage                             object\n",
       "Architecture                             object\n",
       "Cylindrée                                object\n",
       "Conso. ville                             object\n",
       "Conso. route                             object\n",
       "Vitesse maxi.                            object\n",
       "Volume du réservoir                      object\n",
       "dtype: object"
      ]
     },
     "execution_count": 180,
     "metadata": {},
     "output_type": "execute_result"
    }
   ],
   "source": [
    "df.dtypes"
   ]
  }
 ],
 "metadata": {
  "kernelspec": {
   "display_name": "Python 3 (ipykernel)",
   "language": "python",
   "name": "python3"
  },
  "language_info": {
   "codemirror_mode": {
    "name": "ipython",
    "version": 3
   },
   "file_extension": ".py",
   "mimetype": "text/x-python",
   "name": "python",
   "nbconvert_exporter": "python",
   "pygments_lexer": "ipython3",
   "version": "3.10.8"
  }
 },
 "nbformat": 4,
 "nbformat_minor": 2
}
